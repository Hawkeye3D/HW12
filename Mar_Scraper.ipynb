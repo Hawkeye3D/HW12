{
 "cells": [
  {
   "cell_type": "code",
   "execution_count": 12,
   "metadata": {},
   "outputs": [],
   "source": [
    "# import necessary libraries\n",
    "import pandas as pd\n",
    "from flask import Flask, render_template\n",
    "# %%\n",
    "# Module used to connect Python with MongoDb\n",
    "from flask_pymongo import PyMongo\n",
    "import datetime\n",
    "import pprint as pp\n",
    "import pymongo\n",
    "# Import Scrape libraries\n",
    "import requests\n",
    "import urllib.request\n",
    "import time \n",
    "from splinter import Browser\n",
    "from bs4 import BeautifulSoup as bs\n",
    "from urllib.parse import urljoin\n",
    " \n"
   ]
  },
  {
   "cell_type": "markdown",
   "metadata": {},
   "source": [
    "# Definitions"
   ]
  },
  {
   "cell_type": "markdown",
   "metadata": {},
   "source": [
    " # Set up Mongo Data Base and Populate with test code\n",
    " Mars_db is the Databasename\n",
    " MData is the collections, or table name, where we will store\n",
    " all of the data we scrape and store in variables.\n",
    " "
   ]
  },
  {
   "cell_type": "code",
   "execution_count": 25,
   "metadata": {},
   "outputs": [
    {
     "data": {
      "text/plain": [
       "{'_id': ObjectId('5d73f3cd11ef67c1ba649043'),\n",
       " 'nasatitle': 'CORGIES ROAMING MARS!!',\n",
       " 'nasanote': 'In a surprise development today  a pack of what appear to be cute Corgies were seen roaming an Ancient Alien ruin on Mars. This has completely rattled the scientfic community. Nay sayers claim it is just another example of fake news, but Corgie lovers world-wide say it is proof that Corgies are the best and brightest dog breed.',\n",
       " 'nasaimgURL': 'https://media1.giphy.com/media/vGo2sgzeC8r60/200w.webp?cid=790b76116174feb42843815998a66504ca992d6761f09bc0&rid=200w.webp',\n",
       " 'nasacardimage': '',\n",
       " 'nasadate': datetime.datetime(2019, 9, 7, 18, 15, 41, 322000),\n",
       " 'datatable1': '',\n",
       " 'datatable2': '',\n",
       " 'jpl_featured_image_url': 'https://media1.giphy.com/media/wOJhrjx3lFxh9ShCZY/giphy.webp?cid=790b761122897cf1a00f010852e522814f44989b84eb167c&rid=giphy.webp',\n",
       " 'mars_weather': 'Partly dusty, 70 degrees F',\n",
       " 'popups': [],\n",
       " 'hemispherepics': [{'Title': 'Water on Mars',\n",
       "   'hemisphere_url': 'https://media1.giphy.com/media/fnlXXGImVWB0RYWWQj/200w.webp?cid=790b76116174feb42843815998a66504ca992d6761f09bc0&rid=200w.webp'},\n",
       "  {'Title': 'Anti-Gravity Technology',\n",
       "   'hemisphere_url': 'https://media1.giphy.com/media/wOJhrjx3lFxh9ShCZY/giphy.webp?cid=790b761122897cf1a00f010852e522814f44989b84eb167c&rid=giphy.webp'},\n",
       "  {'Title': 'Advanced Linguistics',\n",
       "   'hemisphere_url': 'https://media3.giphy.com/media/WEiKBTaESHHhK/200w.webp?cid=790b76116174feb42843815998a66504ca992d6761f09bc0&rid=200w.webp'},\n",
       "  {'Title': 'Martian Corgi Spacesuit',\n",
       "   'hemisphere_url': 'https://media2.giphy.com/media/RuP38JSfj14je/giphy.webp?cid=790b76116174feb42843815998a66504ca992d6761f09bc0&rid=giphy.webp'}]}"
      ]
     },
     "execution_count": 25,
     "metadata": {},
     "output_type": "execute_result"
    }
   ],
   "source": [
    "# The default port used by MongoDB is 27017\n",
    "# https://docs.mongodb.com/manual/reference/default-mongodb-port\n",
    "conn = 'mongodb://localhost:27017'\n",
    "client = pymongo.MongoClient(conn)\n",
    "# declare database\n",
    "db = client.mars_db  # implicitly declared mars DB\n",
    "\n",
    "collection = db.mars_db\n",
    "collection.drop() # clean it out before we add the test data\n",
    "post = {'nasatitle': 'CORGIES ROAMING MARS!!',\n",
    "'nasanote': 'In a surprise development today  a pack of what appear to be cute Corgies were seen roaming an Ancient Alien ruin on Mars. This has completely rattled the scientfic community. Nay sayers claim it is just another example of fake news, but Corgie lovers world-wide say it is proof that Corgies are the best and brightest dog breed.',\n",
    "'nasaimgURL': 'https://media1.giphy.com/media/vGo2sgzeC8r60/200w.webp?cid=790b76116174feb42843815998a66504ca992d6761f09bc0&rid=200w.webp',\n",
    "'nasacardimage': '',\n",
    "'nasadate': datetime.datetime.utcnow(),\n",
    "'datatable1': \"\",\n",
    "'datatable2':\"\",\n",
    "'jpl_featured_image_url': 'https://media1.giphy.com/media/wOJhrjx3lFxh9ShCZY/giphy.webp?cid=790b761122897cf1a00f010852e522814f44989b84eb167c&rid=giphy.webp',\n",
    "'mars_weather': 'Partly dusty, 70 degrees F',\n",
    "'popups':[],\n",
    "'hemispherepics': [{'Title': 'Water on Mars', 'hemisphere_url': 'https://media1.giphy.com/media/fnlXXGImVWB0RYWWQj/200w.webp?cid=790b76116174feb42843815998a66504ca992d6761f09bc0&rid=200w.webp'},\n",
    "{'Title': 'Anti-Gravity Technology',\n",
    "    'hemisphere_url': 'https://media1.giphy.com/media/wOJhrjx3lFxh9ShCZY/giphy.webp?cid=790b761122897cf1a00f010852e522814f44989b84eb167c&rid=giphy.webp'},\n",
    "{'Title': 'Advanced Linguistics',\n",
    "    'hemisphere_url': 'https://media3.giphy.com/media/WEiKBTaESHHhK/200w.webp?cid=790b76116174feb42843815998a66504ca992d6761f09bc0&rid=200w.webp'},\n",
    "{'Title': 'Martian Corgi Spacesuit', 'hemisphere_url': 'https://media2.giphy.com/media/RuP38JSfj14je/giphy.webp?cid=790b76116174feb42843815998a66504ca992d6761f09bc0&rid=giphy.webp'}]\n",
    "}\n",
    "collection.insert_one(post)\n",
    "# Verify results:\n",
    "results = collection.find_one()\n",
    "# for result in results:\n",
    "#     print(result)\n",
    "results"
   ]
  },
  {
   "cell_type": "markdown",
   "metadata": {},
   "source": [
    "# Set up web pages to scrape as a dictionary\n",
    "This makes is easier to address the "
   ]
  },
  {
   "cell_type": "code",
   "execution_count": 26,
   "metadata": {},
   "outputs": [
    {
     "name": "stdout",
     "output_type": "stream",
     "text": [
      "{'Hemispheres': 'https://astrogeology.usgs.gov/search/results?q=hemisphere+enhanced&k1=target&v1=Mars',\n",
      " 'JPL': 'https://www.jpl.nasa.gov/spaceimages/',\n",
      " 'Mars Facts': 'https://space-facts.com/mars/',\n",
      " 'Mars Weather': 'https://twitter.com/MarsWxReport',\n",
      " 'NASA': 'https://mars.nasa.gov/news/?page=0&per_page=40&order=publish_date+desc%2Ccreated_at+desc&search=&category=19%2C165%2C184%2C204&blank_scope=Latest'}\n"
     ]
    }
   ],
   "source": [
    "def SetSources():\n",
    "    URL_DataSources={}\n",
    "    '''Assigns URL addresses to Dictionary'''\n",
    "    URL_DataSources.update({'NASA':'https://mars.nasa.gov/news/?page=0&per_page=40&order=publish_date+desc%2Ccreated_at+desc&search=&category=19%2C165%2C184%2C204&blank_scope=Latest'})\n",
    "    URL_DataSources.update({'JPL':'https://www.jpl.nasa.gov/spaceimages/'})\n",
    "    URL_DataSources.update({'Mars Weather': 'https://twitter.com/MarsWxReport'})\n",
    "    URL_DataSources.update({'Mars Facts': 'https://space-facts.com/mars/'})\n",
    "    URL_DataSources.update({'Hemispheres': 'https://astrogeology.usgs.gov/search/results?q=hemisphere+enhanced&k1=target&v1=Mars'})\n",
    "    return URL_DataSources\n",
    "URLS=SetSources()\n",
    "pp.pprint(URLS)   "
   ]
  },
  {
   "cell_type": "code",
   "execution_count": 27,
   "metadata": {},
   "outputs": [
    {
     "name": "stdout",
     "output_type": "stream",
     "text": [
      "dict_keys(['NASA', 'JPL', 'Mars Weather', 'Mars Facts', 'Hemispheres'])\n"
     ]
    }
   ],
   "source": [
    "URLNames= URLS.keys()\n",
    "print(URLNames)"
   ]
  },
  {
   "cell_type": "code",
   "execution_count": 28,
   "metadata": {},
   "outputs": [],
   "source": [
    "# response= requests.get(URLS['NASA'] ) \n",
    "# soup = bs(response.text, 'lxml')#\"html.parser\")\n",
    "# tags = soup.find_all('div')\n",
    "# print(soup.prettify())"
   ]
  },
  {
   "cell_type": "markdown",
   "metadata": {},
   "source": [
    "# Scrape Logic for  NASA website\n",
    "It turned out that Inspect did not clearly show the critical 'rollover_description_inner' attribute\n",
    "but is was clear when the soup was printed"
   ]
  },
  {
   "cell_type": "code",
   "execution_count": 29,
   "metadata": {},
   "outputs": [
    {
     "name": "stdout",
     "output_type": "stream",
     "text": [
      "'NASA Invites Students to Name Mars 2020 Rover'\n",
      "('Through Nov. 1, K-12 students in the U.S. are encouraged to enter an essay '\n",
      " \"contest to name NASA's next Mars rover.\")\n",
      "https://mars.nasa.gov/news/?page=0&per_page=40&order=publish_date+desc%2Ccreated_at+desc&search=&category=19%2C165%2C184%2C204&blank_scope=Latest\n",
      "Through Nov. 1, K-12 students in the U.S. are encouraged to enter an essay contest to name NASA's next Mars rover.\n"
     ]
    }
   ],
   "source": [
    "# download s the HTML NASA Webpage\n",
    "response= requests.get(URLS['NASA'] ) \n",
    "soup = bs(response.text, 'lxml')#\"html.parser\")\n",
    "allcontents = soup.find_all('div', \"content_title\") \n",
    "allteasers = soup.find_all('div','rollover_description_inner')\n",
    "retimage=urljoin(URLS['NASA'], soup.find('img',class_='list_image'))\n",
    "#retlistdate = soup.find_one('div',class_='list_date')\n",
    "#allnasaimages = soup.find_one('div', \"list_image\"  )\n",
    "#alldates = soup.find_one('div', \"list_date\"  )\n",
    "#     pp.pprint(allcontents)\n",
    " \n",
    "#print(allteasers)\n",
    "#print(allnasaimages[0].text)\n",
    "#print(alldates[0].text)\n",
    "pp.pprint(allcontents[0].text.strip())\n",
    "pp.pprint(allteasers[0].text.strip())\n",
    "print(retimage)\n",
    "print(soup.find_all('div','rollover_description_inner')[0].text.strip())"
   ]
  },
  {
   "cell_type": "markdown",
   "metadata": {},
   "source": [
    "# Scrap Logic for JPL Site\n"
   ]
  },
  {
   "cell_type": "code",
   "execution_count": 18,
   "metadata": {},
   "outputs": [
    {
     "name": "stdout",
     "output_type": "stream",
     "text": [
      "https://www.jpl.nasa.gov/spaceimages/\n",
      "https://www.jpl.nasa.gov/spaceimages/images/mediumsize/PIA16842_ip.jpg\n",
      "https://www.jpl.nasa.gov/spaceimages/images/mediumsize/PIA16842_ip.jpg\n"
     ]
    }
   ],
   "source": [
    "from urllib.parse import urljoin # used to concactenate base address with relative image address for total address\n",
    "\n",
    "response= requests.get(URLS['JPL'] )\n",
    "soup = bs(response.text, 'lxml')\n",
    " \n",
    "\n",
    "bigpicofday=soup.find_all('a', 'fancybox', id='full_image' ) \n",
    "strstr=str(bigpicofday[0])#convert string to string for some pythonic reason\n",
    "strt =(strstr.find('data-fancybox-href'))\n",
    "lsubstr=len('data-fancybox-href=\"')#include the quote\n",
    "#print(strt,lsubstr)\n",
    "newstr=strstr[lsubstr+strt:-2].split(\" \")[0]  \n",
    "#print(newstr)\n",
    "\n",
    "base = URLS['JPL']\n",
    "print(base)\n",
    "newstr=urljoin(base, newstr)\n",
    "newstr=newstr[0:len(newstr)-1]\n",
    "print(newstr)\n",
    "print(urljoin(base, newstr))\n",
    "#pp.pprint(bigpicofday[0])"
   ]
  },
  {
   "cell_type": "markdown",
   "metadata": {},
   "source": [
    "# Logic for scraping Mars Weather Data\n"
   ]
  },
  {
   "cell_type": "code",
   "execution_count": 19,
   "metadata": {},
   "outputs": [
    {
     "name": "stdout",
     "output_type": "stream",
     "text": [
      "\n",
      "We won’t be hearing from @MarsCuriosity or @NASAInSight for the next 2 weeks during Mars solar conjunction. Read more about why Mars missions go silent every 2 years: https://www.wral.com/mars-spacecraft-go-quiet-during-solar-conjunction/18595551/ …pic.twitter.com/fWruE2v151\n",
      "\n"
     ]
    }
   ],
   "source": [
    "response= requests.get(URLS['Mars Weather'] )\n",
    "soup = bs(response.text, 'lxml')\n",
    "#retweather = soup.find_all('a',id='Report') #,'js-tweet-text-container')\n",
    "retweather = soup.find('div','js-tweet-text-container').text #,'js-tweet-text-container')\n",
    "print(retweather )"
   ]
  },
  {
   "cell_type": "markdown",
   "metadata": {},
   "source": [
    "# Logic for Scraping Mars Facts"
   ]
  },
  {
   "cell_type": "code",
   "execution_count": 20,
   "metadata": {},
   "outputs": [
    {
     "data": {
      "text/plain": [
       "'https://space-facts.com/mars/'"
      ]
     },
     "execution_count": 20,
     "metadata": {},
     "output_type": "execute_result"
    }
   ],
   "source": [
    "response= requests.get(URLS['Mars Facts'] )\n",
    "soup = bs(response.text, 'lxml') \n",
    "retdata= soup.find('table', id='tablepress-p-mars')  \n",
    "retstrdata=(retdata)\n",
    "\n",
    "#df=parse_html_table(retstrdata) # routine I scraped from web, though there is pandas way\n",
    "dftablelist=pd.read_html(URLS['Mars Facts'])\n",
    "dftablelist[0] \n",
    "\n",
    "URLS['Mars Facts']"
   ]
  },
  {
   "cell_type": "code",
   "execution_count": null,
   "metadata": {},
   "outputs": [],
   "source": []
  },
  {
   "cell_type": "code",
   "execution_count": 21,
   "metadata": {},
   "outputs": [
    {
     "data": {
      "text/html": [
       "<div>\n",
       "<style scoped>\n",
       "    .dataframe tbody tr th:only-of-type {\n",
       "        vertical-align: middle;\n",
       "    }\n",
       "\n",
       "    .dataframe tbody tr th {\n",
       "        vertical-align: top;\n",
       "    }\n",
       "\n",
       "    .dataframe thead th {\n",
       "        text-align: right;\n",
       "    }\n",
       "</style>\n",
       "<table border=\"1\" class=\"dataframe\">\n",
       "  <thead>\n",
       "    <tr style=\"text-align: right;\">\n",
       "      <th></th>\n",
       "      <th>Parameter Description</th>\n",
       "      <th>Value</th>\n",
       "    </tr>\n",
       "  </thead>\n",
       "  <tbody>\n",
       "    <tr>\n",
       "      <th>0</th>\n",
       "      <td>Equatorial Diameter:</td>\n",
       "      <td>6,792 km</td>\n",
       "    </tr>\n",
       "    <tr>\n",
       "      <th>1</th>\n",
       "      <td>Polar Diameter:</td>\n",
       "      <td>6,752 km</td>\n",
       "    </tr>\n",
       "    <tr>\n",
       "      <th>2</th>\n",
       "      <td>Mass:</td>\n",
       "      <td>6.39 × 10^23 kg (0.11 Earths)</td>\n",
       "    </tr>\n",
       "    <tr>\n",
       "      <th>3</th>\n",
       "      <td>Moons:</td>\n",
       "      <td>2 (Phobos &amp; Deimos)</td>\n",
       "    </tr>\n",
       "    <tr>\n",
       "      <th>4</th>\n",
       "      <td>Orbit Distance:</td>\n",
       "      <td>227,943,824 km (1.38 AU)</td>\n",
       "    </tr>\n",
       "    <tr>\n",
       "      <th>5</th>\n",
       "      <td>Orbit Period:</td>\n",
       "      <td>687 days (1.9 years)</td>\n",
       "    </tr>\n",
       "    <tr>\n",
       "      <th>6</th>\n",
       "      <td>Surface Temperature:</td>\n",
       "      <td>-87 to -5 °C</td>\n",
       "    </tr>\n",
       "    <tr>\n",
       "      <th>7</th>\n",
       "      <td>First Record:</td>\n",
       "      <td>2nd millennium BC</td>\n",
       "    </tr>\n",
       "    <tr>\n",
       "      <th>8</th>\n",
       "      <td>Recorded By:</td>\n",
       "      <td>Egyptian astronomers</td>\n",
       "    </tr>\n",
       "  </tbody>\n",
       "</table>\n",
       "</div>"
      ],
      "text/plain": [
       "  Parameter Description                          Value\n",
       "0  Equatorial Diameter:                       6,792 km\n",
       "1       Polar Diameter:                       6,752 km\n",
       "2                 Mass:  6.39 × 10^23 kg (0.11 Earths)\n",
       "3                Moons:            2 (Phobos & Deimos)\n",
       "4       Orbit Distance:       227,943,824 km (1.38 AU)\n",
       "5         Orbit Period:           687 days (1.9 years)\n",
       "6  Surface Temperature:                   -87 to -5 °C\n",
       "7         First Record:              2nd millennium BC\n",
       "8          Recorded By:           Egyptian astronomers"
      ]
     },
     "execution_count": 21,
     "metadata": {},
     "output_type": "execute_result"
    }
   ],
   "source": [
    "dftablelist[1].columns=['Parameter Description','Value']\n",
    "dftablelist[1]"
   ]
  },
  {
   "cell_type": "markdown",
   "metadata": {},
   "source": [
    "## Convert data frames to HTML\n",
    "For insertion into web Page"
   ]
  },
  {
   "cell_type": "code",
   "execution_count": 22,
   "metadata": {},
   "outputs": [
    {
     "name": "stdout",
     "output_type": "stream",
     "text": [
      "<bound method DataFrame.to_html of   Parameter Description                          Value\n",
      "0  Equatorial Diameter:                       6,792 km\n",
      "1       Polar Diameter:                       6,752 km\n",
      "2                 Mass:  6.39 × 10^23 kg (0.11 Earths)\n",
      "3                Moons:            2 (Phobos & Deimos)\n",
      "4       Orbit Distance:       227,943,824 km (1.38 AU)\n",
      "5         Orbit Period:           687 days (1.9 years)\n",
      "6  Surface Temperature:                   -87 to -5 °C\n",
      "7         First Record:              2nd millennium BC\n",
      "8          Recorded By:           Egyptian astronomers>\n"
     ]
    }
   ],
   "source": [
    "rethtmltable0=dftablelist[0].to_html\n",
    "rethtmltable1=dftablelist[1].to_html\n",
    "print(rethtmltable1)"
   ]
  },
  {
   "cell_type": "markdown",
   "metadata": {},
   "source": [
    "# Logic for scraping the Hemipheres Web Page"
   ]
  },
  {
   "cell_type": "code",
   "execution_count": 23,
   "metadata": {},
   "outputs": [
    {
     "data": {
      "text/plain": [
       "[<div class=\"item\"><a class=\"itemLink product-item\" href=\"/search/map/Mars/Viking/cerberus_enhanced\"><img alt=\"Cerberus Hemisphere Enhanced thumbnail\" class=\"thumb\" src=\"/cache/images/dfaf3849e74bf973b59eb50dab52b583_cerberus_enhanced.tif_thumb.png\"/><div class=\"description\"><h3>Cerberus Hemisphere Enhanced</h3><span class=\"subtitle\" style=\"float:left\">image/tiff 21 MB</span><span class=\"pubDate\" style=\"float:right\"></span><br/><p>Mosaic of the Cerberus hemisphere of Mars projected into point perspective, a view similar to that which one would see from a spacecraft. This mosaic is composed of 104 Viking Orbiter images acquired…</p></div> <!-- end description --></a></div>,\n",
       " <div class=\"item\"><a class=\"itemLink product-item\" href=\"/search/map/Mars/Viking/schiaparelli_enhanced\"><img alt=\"Schiaparelli Hemisphere Enhanced thumbnail\" class=\"thumb\" src=\"/cache/images/7677c0a006b83871b5a2f66985ab5857_schiaparelli_enhanced.tif_thumb.png\"/><div class=\"description\"><h3>Schiaparelli Hemisphere Enhanced</h3><span class=\"subtitle\" style=\"float:left\">image/tiff 35 MB</span><span class=\"pubDate\" style=\"float:right\"></span><br/><p>Mosaic of the Schiaparelli hemisphere of Mars projected into point perspective, a view similar to that which one would see from a spacecraft. The images were acquired in 1980 during early northern…</p></div> <!-- end description --></a></div>,\n",
       " <div class=\"item\"><a class=\"itemLink product-item\" href=\"/search/map/Mars/Viking/syrtis_major_enhanced\"><img alt=\"Syrtis Major Hemisphere Enhanced thumbnail\" class=\"thumb\" src=\"/cache/images/aae41197e40d6d4f3ea557f8cfe51d15_syrtis_major_enhanced.tif_thumb.png\"/><div class=\"description\"><h3>Syrtis Major Hemisphere Enhanced</h3><span class=\"subtitle\" style=\"float:left\">image/tiff 25 MB</span><span class=\"pubDate\" style=\"float:right\"></span><br/><p>Mosaic of the Syrtis Major hemisphere of Mars projected into point perspective, a view similar to that which one would see from a spacecraft. This mosaic is composed of about 100 red and violet…</p></div> <!-- end description --></a></div>,\n",
       " <div class=\"item\"><a class=\"itemLink product-item\" href=\"/search/map/Mars/Viking/valles_marineris_enhanced\"><img alt=\"Valles Marineris Hemisphere Enhanced thumbnail\" class=\"thumb\" src=\"/cache/images/04085d99ec3713883a9a57f42be9c725_valles_marineris_enhanced.tif_thumb.png\"/><div class=\"description\"><h3>Valles Marineris Hemisphere Enhanced</h3><span class=\"subtitle\" style=\"float:left\">image/tiff 27 MB</span><span class=\"pubDate\" style=\"float:right\"></span><br/><p>Mosaic of the Valles Marineris hemisphere of Mars projected into point perspective, a view similar to that which one would see from a spacecraft. The distance is 2500 kilometers from the surface of…</p></div> <!-- end description --></a></div>]"
      ]
     },
     "execution_count": 23,
     "metadata": {},
     "output_type": "execute_result"
    }
   ],
   "source": [
    " \n",
    "response= requests.get(URLS['Hemispheres'] )\n",
    "soup = bs(response.text, 'lxml') \n",
    "# This gives us the four blocks of data associated with each picture\n",
    "retpics = soup.find_all('div', class_='item')\n",
    "retpics"
   ]
  },
  {
   "cell_type": "code",
   "execution_count": 24,
   "metadata": {},
   "outputs": [
    {
     "data": {
      "text/plain": [
       "['https://astrogeology.usgs.gov/search/map/Mars/Viking/cerberus_enhanced',\n",
       " 'https://astrogeology.usgs.gov/search/map/Mars/Viking/schiaparelli_enhanced',\n",
       " 'https://astrogeology.usgs.gov/search/map/Mars/Viking/syrtis_major_enhanced',\n",
       " 'https://astrogeology.usgs.gov/search/map/Mars/Viking/valles_marineris_enhanced']"
      ]
     },
     "execution_count": 24,
     "metadata": {},
     "output_type": "execute_result"
    }
   ],
   "source": [
    "    #Each of the above blocks needs to be scraped of an image href, a description I will use as a popup, and a url to where the image is, on aonther web page\n",
    "    popups=[]\n",
    "    imgurls=[]\n",
    "    for item in retpics:\n",
    "            popups.append(item.text)\n",
    "            imgurls.append(urljoin(URLS['Hemispheres'],item.find('a')['href']))\n",
    "    imgurls                        "
   ]
  },
  {
   "cell_type": "markdown",
   "metadata": {},
   "source": [
    "## URLS for *where* the images are has been established in imgurls\n",
    "Now I need to find out where the image is for each URL"
   ]
  },
  {
   "cell_type": "code",
   "execution_count": 41,
   "metadata": {},
   "outputs": [
    {
     "name": "stdout",
     "output_type": "stream",
     "text": [
      "[{'title': 'Cerberus Hemisphere Enhanced ', 'img_url': 'https://astrogeology.usgs.gov/cache/images/cfa62af2557222a02478f1fcd781d445_cerberus_enhanced.tif_full.jpg'}, {'title': 'Schiaparelli Hemisphere Enhanced ', 'img_url': 'https://astrogeology.usgs.gov/cache/images/3cdd1cbf5e0813bba925c9030d13b62e_schiaparelli_enhanced.tif_full.jpg'}, {'title': 'Syrtis Major Hemisphere Enhanced ', 'img_url': 'https://astrogeology.usgs.gov/cache/images/ae209b4e408bb6c3e67b6af38168cf28_syrtis_major_enhanced.tif_full.jpg'}, {'title': 'Valles Marineris Hemisphere Enhanced ', 'img_url': 'https://astrogeology.usgs.gov/cache/images/7cf2da4bf549ed01c17f206327be4db7_valles_marineris_enhanced.tif_full.jpg'}]\n"
     ]
    }
   ],
   "source": [
    "rethemiimgs =[]\n",
    "rethemicaptions =[]\n",
    "rethemisubcaptions =[]\n",
    "rethemidict=[]\n",
    "\n",
    "for item in imgurls:\n",
    "    time.sleep(1)\n",
    "    response= requests.get(item)\n",
    "    soup = bs(response.text, 'lxml')\n",
    "    image=urljoin(item, soup.find('img',class_='wide-image').get('src'))\n",
    "    rethemiimgs.append(image)\n",
    "    titles=soup.title.text.split('|')\n",
    "    rethemicaptions.append(titles[0].replace(' Enhanced ',\"\"))\n",
    "    rethemisubcaptions.append(titles[1].strip())\n",
    "    rethemidict.append({'title':titles[0],'img_url':image})\n",
    "\n",
    "\n",
    "print(rethemidict)"
   ]
  },
  {
   "cell_type": "markdown",
   "metadata": {},
   "source": [
    "# Collected code for single call that will scrape all data from the five websites"
   ]
  },
  {
   "cell_type": "code",
   "execution_count": 42,
   "metadata": {},
   "outputs": [],
   "source": [
    "def dprint(flag,str):\n",
    "    '''\n",
    "    Purpose:Debug Print\n",
    "    flag:set to True if output is desired\n",
    "    str: item to print\n",
    "    '''\n",
    "    if flag:\n",
    "        print(str)\n",
    "def dpprint(flag,str):\n",
    "    '''\n",
    "    Purpose:Debug Print\n",
    "    flag:set to True if output is desired\n",
    "    str:item to print\n",
    "    '''\n",
    "    if flag:\n",
    "        pp.pprint(str)\n",
    "printflag=False\n",
    "for n in URLNames:\n",
    "    if n =='NASA':\n",
    "        # Connect to the URL using urllib request\n",
    "        response= requests.get(URLS[n] )\n",
    "        soup = bs(response.text, 'lxml')\n",
    "        allcontents = soup.find_all('div', \"content_title\" )\n",
    "        allteasers = soup.find_all('div','rollover_description_inner'   )\n",
    "        retimage=urljoin(URLS['NASA'], soup.find('img',class_='list_image'))\n",
    "        retcontent= allcontents[0].text.strip()\n",
    "        retteaser=  allteasers[0].text.strip()\n",
    "        dprint(printflag,retcontent)\n",
    "        dprint(printflag,retteaser)\n",
    "    elif n == 'JPL':\n",
    "        response= requests.get(URLS[n] )\n",
    "        soup = bs(response.text, 'lxml')        \n",
    "        bigpicofday=soup.find_all('a', 'fancybox', id='full_image' ) \n",
    "        strstr=str(bigpicofday[0])#convert string to string for some pythonic reason\n",
    "        strt =(strstr.find('data-fancybox-href'))\n",
    "        lsubstr=len('data-fancybox-href=\"')#include the quote\n",
    "        newstr=strstr[lsubstr+strt:-1].split(\" \")[0]  \n",
    "        newstr=urljoin(URLS['JPL'], newstr)\n",
    "        newstr=newstr[0:len(newstr)-1]\n",
    "        retpicofday=(urljoin(URLS['JPL'], newstr)) \n",
    "        dprint(printflag,\"JPL Pic of day: \"+retpicofday)\n",
    "    elif n=='Mars Weather':\n",
    "        response= requests.get(URLS['Mars Weather'] )\n",
    "        soup = bs(response.text, 'lxml')    \n",
    "        retweather = soup.find('div','js-tweet-text-container').text #,'js-tweet-text-container')\n",
    "        dprint(printflag,retweather )\n",
    "    elif n=='Mars Facts':\n",
    "        response= requests.get(URLS['Mars Facts'] )\n",
    "        soup = bs(response.text, 'lxml') \n",
    "#         retdata= soup.find('table', id='tablepress-p-mars')  \n",
    "#         dprint(printflag,retdata)\n",
    "        \n",
    "#         dftablelist=pd.read_html(URLS['Mars Facts'])\n",
    "#         dftablelist[0]\n",
    "#         dftablelist[1].columns=['Parameter Description','Value']\n",
    "#         dftablelist[1]\n",
    "#         rethtmltable0=dftablelist[0].to_html\n",
    "#         rethtmltable1=dftablelist[1].to_html\n",
    "#         dpprint(printflag,rethtmltable0)\n",
    "#         dprint(printflag,\"\")\n",
    "#         dpprint(printflag,rethtmltable1)\n",
    " \n",
    "        retdata= soup.find_all('table')\n",
    "        rethtmltable0=retdata[0]\n",
    "        rethtmltable1=retdata[1]\n",
    "    elif n=='Hemispheres':\n",
    "        response= requests.get(URLS['Hemispheres'] )\n",
    "        soup = bs(response.text, 'lxml') \n",
    "        \n",
    "        # This gives us the four blocks of data associated with each picture\n",
    "        retpics = soup.find_all('div', class_='item')\n",
    "        \n",
    "        #Each of the above blocks needs to be scraped of an image href, a description I will use as a popup, and a url to where the image is, on aonther web page\n",
    "        popups=[]\n",
    "        imgurls=[]\n",
    "        \n",
    "        #loop throught the web pages, get popup text for pictures and get webpage of picture\n",
    "        for item in retpics:\n",
    "            popups.append(item.text)\n",
    "            imgurls.append(urljoin(URLS['Hemispheres'],item.find('a').get('href')))\n",
    "            \n",
    "        rethemiimgs =[] # return list of image addresses\n",
    "        rethemicaptions =[] # Caption to place under image\n",
    "        rethemisubcaptions =[] #Source of image caption\n",
    "        for item in imgurls:\n",
    "            time.sleep(1)\n",
    "            response= requests.get(item)\n",
    "            soup = bs(response.text, 'lxml')\n",
    "            image=urljoin(item, soup.find('img',class_='wide-image').get('src'))\n",
    "            rethemiimgs.append(image)\n",
    "            titles=soup.title.text.split('|')\n",
    "            rethemicaptions.append(titles[0].replace(' Enhanced ',\"\"))\n",
    "            rethemisubcaptions.append(titles[1].strip())\n",
    "            rethemidict.append({'title':titles[0],'img_url':image})\n",
    "        dprint(printflag,rethemicaptions)\n",
    "        dprint(printflag,rethemisubcaptions)\n",
    "        dpprint(printflag,rethemiimgs) \n",
    "        dprint(printflag,rethemidict)"
   ]
  },
  {
   "cell_type": "markdown",
   "metadata": {},
   "source": [
    "# Put scraped data into Mongo DB Mdata\n",
    "User return value variable "
   ]
  },
  {
   "cell_type": "code",
   "execution_count": 43,
   "metadata": {},
   "outputs": [
    {
     "name": "stdout",
     "output_type": "stream",
     "text": [
      "<class 'dict'>\n",
      "{'_id': ObjectId('5d72ef1f96b84e91b4f8aaa0'), 'nasatitle': 'NASA Invites Students to Name Mars 2020 Rover', 'nasanote': \"Through Nov. 1, K-12 students in the U.S. are encouraged to enter an essay contest to name NASA's next Mars rover.\", 'nasaimgURL': 'https://mars.nasa.gov/news/?page=0&per_page=40&order=publish_date+desc%2Ccreated_at+desc&search=&category=19%2C165%2C184%2C204&blank_scope=Latest', 'nasacardimage': 'https://mars.nasa.gov/news/?page=0&per_page=40&order=publish_date+desc%2Ccreated_at+desc&search=&category=19%2C165%2C184%2C204&blank_scope=Latest', 'nasadate': datetime.datetime(2019, 9, 6, 23, 43, 27, 536000), 'datatable1': '<table class=\"tablepress tablepress-id-comp-mars blue-table\" id=\"tablepress-comp-mars\"><thead><tr class=\"row-1\"><th class=\"column-1\"><strong>Mars - Earth Comparison</strong></th><th class=\"column-2\"><span class=\"mars\">Mars</span></th><th class=\"column-3\"><span class=\"earth\">Earth</span></th></tr></thead><tbody><tr class=\"row-2\"><td class=\"column-1\">Diameter:</td><td class=\"column-2\"><span class=\"mars-s\">6,779 km</span></td><td class=\"column-3\"><span class=\"earth-s\">12,742 km</span></td></tr><tr class=\"row-3\"><td class=\"column-1\">Mass:</td><td class=\"column-2\"><span class=\"mars-s\">6.39 × 10^23 kg</span></td><td class=\"column-3\"><span class=\"earth-s\">5.97 × 10^24 kg</span></td></tr><tr class=\"row-4\"><td class=\"column-1\">Moons:</td><td class=\"column-2\"><span class=\"mars-s\">2</span></td><td class=\"column-3\"><span class=\"earth-s\">1</span></td></tr><tr class=\"row-5\"><td class=\"column-1\">Distance from Sun:</td><td class=\"column-2\"><span class=\"mars-s\">227,943,824 km</span></td><td class=\"column-3\"><span class=\"earth-s\">149,598,262 km</span></td></tr><tr class=\"row-6\"><td class=\"column-1\">Length of Year:</td><td class=\"column-2\"><span class=\"mars-s\">687 Earth days</span></td><td class=\"column-3\"><span class=\"earth-s\">365.24 days</span></td></tr><tr class=\"row-7\"><td class=\"column-1\">Temperature:</td><td class=\"column-2\"><span class=\"mars-s\">-153 to 20 °C</span></td><td class=\"column-3\"><span class=\"earth-s\">-88 to 58°C</span></td></tr></tbody></table>', 'datatable2': '<table class=\"tablepress tablepress-id-p-mars\" id=\"tablepress-p-mars\"><tbody><tr class=\"row-1 odd\"><td class=\"column-1\"><strong>Equatorial Diameter:</strong></td><td class=\"column-2\">6,792 km<br/></td></tr><tr class=\"row-2 even\"><td class=\"column-1\"><strong>Polar Diameter:</strong></td><td class=\"column-2\">6,752 km<br/></td></tr><tr class=\"row-3 odd\"><td class=\"column-1\"><strong>Mass:</strong></td><td class=\"column-2\">6.39 × 10^23 kg<br/> (0.11 Earths)</td></tr><tr class=\"row-4 even\"><td class=\"column-1\"><strong>Moons:</strong></td><td class=\"column-2\">2 (<a href=\"https://space-facts.com/moons/phobos/\">Phobos</a> &amp; <a href=\"https://space-facts.com/moons/deimos/\">Deimos</a>)</td></tr><tr class=\"row-5 odd\"><td class=\"column-1\"><strong>Orbit Distance:</strong></td><td class=\"column-2\">227,943,824 km<br/> (1.38 AU)</td></tr><tr class=\"row-6 even\"><td class=\"column-1\"><strong>Orbit Period:</strong></td><td class=\"column-2\">687 days (1.9 years)<br/></td></tr><tr class=\"row-7 odd\"><td class=\"column-1\"><strong>Surface Temperature: </strong></td><td class=\"column-2\">-87 to -5 °C</td></tr><tr class=\"row-8 even\"><td class=\"column-1\"><strong>First Record:</strong></td><td class=\"column-2\">2nd millennium BC</td></tr><tr class=\"row-9 odd\"><td class=\"column-1\"><strong>Recorded By:</strong></td><td class=\"column-2\">Egyptian astronomers</td></tr></tbody></table>', 'jpl_featured_image_url': 'https://www.jpl.nasa.gov/spaceimages/images/mediumsize/PIA20464_ip.jpg', 'mars_weather': '\\nWe won’t be hearing from @MarsCuriosity or @NASAInSight for the next 2 weeks during Mars solar conjunction. Read more about why Mars missions go silent every 2 years: https://www.wral.com/mars-spacecraft-go-quiet-during-solar-conjunction/18595551/\\xa0…pic.twitter.com/fWruE2v151\\n', 'popups': ['Cerberus Hemisphere Enhancedimage/tiff 21 MBMosaic of the Cerberus hemisphere of Mars projected into point perspective, a view similar to that which one would see from a spacecraft. This mosaic is composed of 104 Viking Orbiter images acquired… ', 'Schiaparelli Hemisphere Enhancedimage/tiff 35 MBMosaic of the Schiaparelli hemisphere of Mars projected into point perspective, a view similar to that which one would see from a spacecraft. The images were acquired in 1980 during early northern… ', 'Syrtis Major Hemisphere Enhancedimage/tiff 25 MBMosaic of the Syrtis Major hemisphere of Mars projected into point perspective, a view similar to that which one would see from a spacecraft. This mosaic is composed of about 100 red and violet… ', 'Valles Marineris Hemisphere Enhancedimage/tiff 27 MBMosaic of the Valles Marineris hemisphere of Mars projected into point perspective, a view similar to that which one would see from a spacecraft. The distance is 2500 kilometers from the surface of… '], 'hemispherepics': [{'title': 'Cerberus Hemisphere Enhanced ', 'img_url': 'https://astrogeology.usgs.gov/cache/images/cfa62af2557222a02478f1fcd781d445_cerberus_enhanced.tif_full.jpg'}, {'title': 'Schiaparelli Hemisphere Enhanced ', 'img_url': 'https://astrogeology.usgs.gov/cache/images/3cdd1cbf5e0813bba925c9030d13b62e_schiaparelli_enhanced.tif_full.jpg'}, {'title': 'Syrtis Major Hemisphere Enhanced ', 'img_url': 'https://astrogeology.usgs.gov/cache/images/ae209b4e408bb6c3e67b6af38168cf28_syrtis_major_enhanced.tif_full.jpg'}, {'title': 'Valles Marineris Hemisphere Enhanced ', 'img_url': 'https://astrogeology.usgs.gov/cache/images/7cf2da4bf549ed01c17f206327be4db7_valles_marineris_enhanced.tif_full.jpg'}, {'title': 'Cerberus Hemisphere Enhanced ', 'img_url': 'https://astrogeology.usgs.gov/cache/images/cfa62af2557222a02478f1fcd781d445_cerberus_enhanced.tif_full.jpg'}, {'title': 'Schiaparelli Hemisphere Enhanced ', 'img_url': 'https://astrogeology.usgs.gov/cache/images/3cdd1cbf5e0813bba925c9030d13b62e_schiaparelli_enhanced.tif_full.jpg'}, {'title': 'Syrtis Major Hemisphere Enhanced ', 'img_url': 'https://astrogeology.usgs.gov/cache/images/ae209b4e408bb6c3e67b6af38168cf28_syrtis_major_enhanced.tif_full.jpg'}, {'title': 'Valles Marineris Hemisphere Enhanced ', 'img_url': 'https://astrogeology.usgs.gov/cache/images/7cf2da4bf549ed01c17f206327be4db7_valles_marineris_enhanced.tif_full.jpg'}]}\n"
     ]
    }
   ],
   "source": [
    "post = {'nasatitle': retcontent,\n",
    "'nasanote': retteaser,\n",
    "'nasaimgURL': retimage,\n",
    "'nasacardimage': retimage,\n",
    "'nasadate': datetime.datetime.utcnow(),\n",
    "'datatable1': str(rethtmltable0),\n",
    "'datatable2':str(rethtmltable1),\n",
    "'jpl_featured_image_url': retpicofday,\n",
    "'mars_weather': retweather,\n",
    "'popups':popups,\n",
    "'hemispherepics':rethemidict\n",
    "}\n",
    "collection.insert_one(post)\n",
    "# Verify results:\n",
    "\n",
    "results = collection.find()[1]\n",
    "# for result in results:\n",
    "#     print(result)\n",
    "#results = db.Mdata.find().limit(1).sort({natural:-1})\n",
    "#results = db.Mdata.find({}).sort({ _id: -1 }).limit(1)\n",
    "\n",
    " \n",
    "print(type(results))\n",
    "print(results)\n",
    "# def printmongodict(item):\n",
    "#     for item in results:\n",
    "       \n",
    "#         if type(item)=='<class dict>':\n",
    "#             printmongodict(item)\n",
    "#         else:\n",
    "#             print(results[item])\n",
    "# printmongodict(results)            \n",
    "    "
   ]
  },
  {
   "cell_type": "code",
   "execution_count": null,
   "metadata": {},
   "outputs": [],
   "source": []
  }
 ],
 "metadata": {
  "kernelspec": {
   "display_name": "Python 3",
   "language": "python",
   "name": "python3"
  },
  "language_info": {
   "codemirror_mode": {
    "name": "ipython",
    "version": 3
   },
   "file_extension": ".py",
   "mimetype": "text/x-python",
   "name": "python",
   "nbconvert_exporter": "python",
   "pygments_lexer": "ipython3",
   "version": "3.7.3"
  }
 },
 "nbformat": 4,
 "nbformat_minor": 4
}
